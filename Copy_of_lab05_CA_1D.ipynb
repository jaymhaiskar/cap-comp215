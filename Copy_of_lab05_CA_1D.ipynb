{
  "cells": [
    {
      "cell_type": "markdown",
      "metadata": {
        "id": "view-in-github",
        "colab_type": "text"
      },
      "source": [
        "<a href=\"https://colab.research.google.com/github/jaymhaiskar/cap-comp215/blob/2024.01/Copy_of_lab05_CA_1D.ipynb\" target=\"_parent\"><img src=\"https://colab.research.google.com/assets/colab-badge.svg\" alt=\"Open In Colab\"/></a>"
      ]
    },
    {
      "cell_type": "markdown",
      "metadata": {
        "collapsed": true,
        "pycharm": {
          "name": "#%% md\n"
        },
        "id": "5tjddq3jQk8_"
      },
      "source": [
        "COMP 215 - LAB 5 (Elementary Cellular Automata)\n",
        "-----------------------------------------------\n",
        "#### Name:\n",
        "#### Date:\n",
        "\n",
        "This lab exercise is an introduction to the elementary [Cellular Automata](https://en.wikipedia.org/wiki/Elementary_cellular_automaton) studied by [Stephen Wolfram](https://en.wikipedia.org/wiki/Stephen_Wolfram#Complex_systems_and_cellular_automata).\n",
        "\n",
        "**New Python concepts**:\n",
        "  * **[NumPy](https://numpy.org)** is an open-source scientific computing package.  We will be using numpy for the remainder of the term.\n",
        "  * 1D and 2D [array](https://numpy.org/doc/stable/reference/generated/numpy.array.html) -  a rectangular grid with efficient matrix operations.\n",
        "\n",
        "**New Computation concepts**:\n",
        "  * **bit sequence** (a.k.a. binary number) - using a sequence of 0's and 1's to efficiently represent a data structure and processes.\n",
        "\n",
        "**Credits**:\n",
        "    Code examples based on [Think Complexity, 2nd edition](https://thinkcomplex.com).\n",
        "    Copyright 2016 Allen Downey, [MIT License](http://opensource.org/licenses/MIT)\n",
        "\n",
        "As usual, the first code cell simply imports all the modules we'll be using..."
      ]
    },
    {
      "cell_type": "code",
      "execution_count": 1,
      "outputs": [],
      "source": [
        "%matplotlib inline\n",
        "\n",
        "import matplotlib.pyplot as plt\n",
        "import numpy as np"
      ],
      "metadata": {
        "pycharm": {
          "name": "#%%\n"
        },
        "ExecuteTime": {
          "end_time": "2024-01-03T01:08:15.688738Z",
          "start_time": "2024-01-03T01:08:15.351290Z"
        },
        "id": "SMgTxGlrQk9C"
      }
    },
    {
      "cell_type": "markdown",
      "source": [
        "## CA Fundamentals\n",
        "Both the textbook and our week5 notebook develop some fundamental operations for simulating Elementary CA.\n",
        "Some of the code developed in class is reproduced here without deriving all the ideas - review `week05` notebook for the full story.\n",
        "The sliding dot product algorithm in `rule_indexes` is implemented with [numpy.correlate](https://numpy.org/doc/stable/reference/generated/numpy.correlate.html).  It's behaviour is identical to the derivation from class.\n",
        "\n",
        "#### Notes\n",
        "* we use `np.pad(array, 1, mode='wrap')` to pad state vector with 1 extra value at both ends, equal to the last value at the opposing end of the vector.  This strategy avoids [edge effects](https://en.wikipedia.org/wiki/Boundary_problem_(spatial_analysis)#Types_and_examples).\n",
        "* since the rule is an `np.array`, we use \"vector indexing\" here to index a whole row at once:  `next_row=rule[indexes]`  See `foundations/numpy_1D_arrays` for details.\n"
      ],
      "metadata": {
        "collapsed": false,
        "pycharm": {
          "name": "#%% md\n"
        },
        "id": "sZOiCri9Qk9D"
      }
    },
    {
      "cell_type": "code",
      "execution_count": 2,
      "outputs": [
        {
          "output_type": "display_data",
          "data": {
            "text/plain": [
              "<Figure size 640x480 with 1 Axes>"
            ],
            "image/png": "[encoded data removed]"
          },
          "metadata": {}
        }
      ],
      "source": [
        "POWERS_OF_2 = np.array((4, 2, 1))\n",
        "\n",
        "def rule_indexes(state):\n",
        "    \"\"\" Return vector of rule indexes - one index for each 3-cell neighbourhood in the CA state vector. \"\"\"\n",
        "    # numpy's version of the \"sliding dot product\" algorithm;  \"pad\" ends of state array with extra 0 cell to mitigate edge effects\n",
        "    return np.correlate(np.pad(state, 1, mode='constant'), POWERS_OF_2, mode='valid')\n",
        "\n",
        "assert all( rule_indexes(np.array([1,1,0,0,1,0,0,0])) == [3, 6, 4, 1, 2, 4, 0, 0] )\n",
        "\n",
        "\n",
        "def transition(state, rule):\n",
        "    \"\"\" Return the vector resulting from a transition of given CA state under the given 8-bit rule \"\"\"\n",
        "    indexes = rule_indexes(state)\n",
        "    return np.array(rule[indexes])  # \"vector indexing\" replaces: [rule[i] for i in indexes]\n",
        "\n",
        "rule_110 = (0,1,1,0,1,1,1,0)[::-1]\n",
        "assert all( transition(np.array((0,0,1,1,1,0,0,0,1,1,0)), np.array(rule_110)) == (0,1,1,0,1,0,0,1,1,1,0))\n",
        "\n",
        "\n",
        "# This algorithm is from the textbook - it uses numpy to do a decimal to binary conversion.\n",
        "def get_lookup_table(rule):\n",
        "    \"\"\"\n",
        "    Return the 8-bit transition vector for the given elementary CA rule number.\n",
        "    rule: int 0-255\n",
        "    returns: transition lookup table - a 8 element vector of 0s and 1s\n",
        "    \"\"\"\n",
        "    rule = np.array([rule], dtype=np.uint8)\n",
        "    return np.unpackbits(rule)[::-1]\n",
        "\n",
        "assert np.all( get_lookup_table(110) == rule_110 )\n",
        "\n",
        "\n",
        "def single_centre_array(n_cells):\n",
        "    \"\"\" Return a binary 1D array with given number of cells, all zeros except a single 1 in the centre cell \"\"\"\n",
        "    array = np.zeros(n_cells, dtype=np.uint8)\n",
        "    array[n_cells//2] = 1\n",
        "    return array\n",
        "\n",
        "assert np.all( single_centre_array(7) == (0,0,0,1,0,0,0) )\n",
        "\n",
        "\n",
        "def simulate_ca(n_cells, n_steps, rule):\n",
        "    \"\"\" Generate a CA with given number of cells, plot progression of rule for given number of time steps \"\"\"\n",
        "    start_state = single_centre_array(n_cells)\n",
        "    # create a stack of \"empty\" state vectors, one for each time step\n",
        "    ca_timesteps = np.vstack([start_state, np.zeros((n_steps, len(start_state)), dtype=np.uint8)])\n",
        "    # run the simulation\n",
        "    for t in range(1, n_steps):\n",
        "        ca_timesteps[t] = transition(ca_timesteps[t-1], rule)\n",
        "    return ca_timesteps\n",
        "\n",
        "\n",
        "def plot_ca(array, axes=None, title='', cmap='Blues', **options):\n",
        "    \"\"\"\n",
        "    Plot the 2D array as an image on the given axes  1's will be dark blue, 0's will be light blue.\n",
        "\n",
        "    :param axes: the axes to plot on, or None to use the `plt.gca()` (current axes)\n",
        "    :param options: keyword arguments passed directly to `plt.imshow()`\n",
        "           see https://matplotlib.org/stable/api/_as_gen/matplotlib.axes.Axes.imshow.html\n",
        "    \"\"\"\n",
        "    axes = axes or plt.gca()  # If not axes are provided, draw on current axes\n",
        "    axes.set(\n",
        "        title=title,\n",
        "        ylabel='Time Steps',\n",
        "    )\n",
        "    # Turn off axes labels and tick marks\n",
        "    axes.tick_params(axis='x', which='both', bottom=False, labelbottom=False)\n",
        "    # Defaults for displaying a \"matrix\" with hard-pixel boundaries and (0,0) at top-left\n",
        "    options = {**dict(interpolation='nearest', origin='upper'), **options}\n",
        "    axes.imshow(array, cmap=cmap, **options)\n",
        "\n",
        "rule_90 = get_lookup_table(90)\n",
        "ca_timesteps = simulate_ca(200, 100, rule_90)\n",
        "plot_ca(ca_timesteps, title=f'Rule 90')"
      ],
      "metadata": {
        "pycharm": {
          "name": "#%%\n"
        },
        "ExecuteTime": {
          "end_time": "2024-01-03T01:08:15.797057Z",
          "start_time": "2024-01-03T01:08:15.693838Z"
        },
        "id": "HsA71VrcQk9D",
        "outputId": "e2e9680d-6a94-4e0b-9c53-1e7702407d7e",
        "colab": {
          "base_uri": "https://localhost:8080/",
          "height": 317
        }
      }
    },
    {
      "cell_type": "markdown",
      "source": [
        "## Exercise 1: Additional Start States\n",
        "In Wolfram's original experiments, he starts with a CA that is all zeros except the centre cell.\n",
        "This is reproduced by the `single_centre_array` function above.\n",
        "It would be interesting to experiment with other start states...\n",
        "\n",
        "Write 2 functions, each of which returns a 1-D `numpy.array` (vector) configured in a specific state:\n",
        "1. `from_string_array` takes a text string of 0's and 1's and returns a 1D array with matching integer values\n",
        "2. `random_array` takes a float $ p where 0 <= p <= 1 $ as input and returns a 1D array $a$, where probability $a[i] == 1$ is $p$\n",
        "\n",
        "*Tip*: both problems are most easily solved using list comprehensions!"
      ],
      "metadata": {
        "collapsed": false,
        "pycharm": {
          "name": "#%% md\n"
        },
        "id": "lJ595NxFQk9E"
      }
    },
    {
      "cell_type": "code",
      "execution_count": 7,
      "outputs": [
        {
          "output_type": "stream",
          "name": "stdout",
          "text": [
            "[<built-in function array> 1 0 0 1]\n",
            "Random array: [1 0 1 0 0 1 1 0 1 1]\n"
          ]
        }
      ],
      "source": [
        "# Solution for Ex. 1 here...\n",
        "'''\n",
        "sources:\n",
        "\n",
        "1) https://stackoverflow.com/questions/7332841/add-single-element-to-array-in-numpy\n",
        "2) https://numpy.org/doc/stable/reference/generated/numpy.where.html\n",
        "\n",
        "'''\n",
        "def from_string_array(list_of_numbers):\n",
        "  arr= np.array\n",
        "  for num in list_of_numbers:\n",
        "    arr = np.append(arr, int(num))\n",
        "\n",
        "  return arr\n",
        "\n",
        "some_array= from_string_array('1001')\n",
        "print(some_array)\n",
        "\n",
        "\n",
        "\n",
        "def random_array(p):\n",
        "\n",
        "    random_values = np.random.rand(size)\n",
        "\n",
        "    # Set elements to 1 where random values are less than or equal to p\n",
        "    a = np.where(random_values <= p, 1, 0)\n",
        "\n",
        "    return a\n",
        "\n",
        "\n",
        "p = 0.5\n",
        "size = 10  # Size of the array\n",
        "result = random_array(p)\n",
        "print(\"Random array:\", result)\n",
        "\n"
      ],
      "metadata": {
        "pycharm": {
          "name": "#%%\n"
        },
        "ExecuteTime": {
          "end_time": "2024-01-03T01:08:15.800407Z",
          "start_time": "2024-01-03T01:08:15.797136Z"
        },
        "id": "EbJaC2NuQk9F",
        "outputId": "0afa5d29-2305-4743-d8fc-ee1ab7600229",
        "colab": {
          "base_uri": "https://localhost:8080/"
        }
      }
    },
    {
      "cell_type": "markdown",
      "source": [
        "## Exercise 2: A Cell1D class\n",
        "Develop your own `Cell1D` class that uses the functions above to implement its fundamental operations.\n",
        "The `Cell1D` class from the textbook may provide some ideas, but you may find it more confusing than helpful.\n",
        "The goal here is to improve on the design of that class, so it might be better to just start over...\n",
        "\n",
        "* Initialize a `Cell1D` with a `rule` number and an array representing the CA `start_state`\n",
        "  *Tip*: initialize a 2-D array with just a single row to define the CA's data structure correctly.\n",
        "* Add a `simulate` method that takes the number of steps to simulate as input (note: my solution is just 4 lines of code)\n",
        "  *Tip*: you can reuse the algorithm from `simulate_ca` above.\n",
        "* Add a `step` method.  Unlike the textbook, our `step` method is just a convenience method - it just `simulate`s a single step.\n",
        "* Add a `draw` method.  Just call `plot_ca` to do the actual work.\n",
        "\n",
        "Note: this is *not* a `dataclass` - you will need an `__init__` method."
      ],
      "metadata": {
        "collapsed": false,
        "pycharm": {
          "name": "#%% md\n"
        },
        "id": "HvOgOREWQk9F"
      }
    },
    {
      "cell_type": "code",
      "execution_count": null,
      "outputs": [],
      "source": [
        "# Solution for Ex. 2 here..."
      ],
      "metadata": {
        "pycharm": {
          "name": "#%%\n"
        },
        "ExecuteTime": {
          "end_time": "2024-01-02T07:20:38.932395Z",
          "start_time": "2024-01-02T07:20:38.899938Z"
        },
        "id": "6etSLQylQk9F"
      }
    },
    {
      "cell_type": "markdown",
      "source": [
        "## Run some Experiments\n",
        "With your new `Cell1D` class, run some experiments to explore the Elementary CA's.\n",
        "\n",
        "Wolfram identifies 4 \"classes\" of Elementary Cellular Automata:\n",
        "    a) rapidly converge to a uniform static state.\n",
        "    b) rapidly converge to a stable repeating pattern.\n",
        "    c) generate non-repeating, random states.\n",
        "    d) generate chaos, with areas of repetitive or stable states, but also structures that interact in complex ways.\n",
        "\n",
        "### Exercise 3\n",
        "\n",
        "1. It will be convenient to abstract the steps needed to construct, simulate, and draw a CA - develop a small `experiment` function to do so.\n",
        "\n",
        "2. Identify a rule that exemplifies each of the 4 CA classes.\n",
        "   Create a 2x2 grid of plots that shows an example simulation for each class of CA side-by-side.\n",
        "   You can simply re-purpose the example code below."
      ],
      "metadata": {
        "collapsed": false,
        "pycharm": {
          "name": "#%% md\n"
        },
        "id": "bBtyQ1hMQk9G"
      }
    },
    {
      "cell_type": "code",
      "execution_count": null,
      "outputs": [],
      "source": [
        "# Solution for Ex. 3 here..."
      ],
      "metadata": {
        "pycharm": {
          "name": "#%%\n"
        },
        "ExecuteTime": {
          "end_time": "2024-01-02T07:20:38.932659Z",
          "start_time": "2024-01-02T07:20:38.909421Z"
        },
        "id": "ER_2fG09Qk9H"
      }
    },
    {
      "cell_type": "markdown",
      "source": [
        "#### Sample code for creating a 2x2 grid of plots"
      ],
      "metadata": {
        "collapsed": false,
        "pycharm": {
          "name": "#%% md\n"
        },
        "id": "k5KGKqsdQk9H"
      }
    },
    {
      "cell_type": "code",
      "execution_count": null,
      "outputs": [],
      "source": [
        "def axes_layout(nrows=1, ncols=1, fig_title=None, **kwargs):\n",
        "    \"\"\" layout nrows x ncols axes with sensible defaults.  kwargs passed directly to `plt.subplots()`\"\"\"\n",
        "    kwargs = {**dict(layout='tight'), **kwargs}\n",
        "    fig, axes = plt.subplots(nrows=nrows, ncols=ncols, **kwargs)\n",
        "    if fig_title:\n",
        "        fig.suptitle(fig_title)\n",
        "    return axes\n",
        "\n",
        "# Example: plot 4 plots in a 2x2 grid - plots are labelled so it's clear which is which.\n",
        "axes = axes_layout(2, 2, fig_title='Sample Plot of 2 x 2 grid of images')\n",
        "for ax, title in zip(axes.flat, ('top-left', 'top-right', 'bottom-left', 'bottom-right' )):\n",
        "    plot_ca(ca_timesteps, axes=ax, title=f'This is plot {title}')"
      ],
      "metadata": {
        "pycharm": {
          "name": "#%%\n"
        },
        "ExecuteTime": {
          "end_time": "2024-01-02T07:20:39.309417Z",
          "start_time": "2024-01-02T07:20:38.915516Z"
        },
        "id": "OzBsTbKbQk9H"
      }
    },
    {
      "cell_type": "markdown",
      "source": [
        "## Exercise 4:  Thought Experiments\n",
        "Think about some of the questions that arise from this experiment.  Provide some concise answer that capture you thinking...\n",
        "1. What is it about these experiments that requires computation?\n",
        "Is there some other means by which we could conduct experiments like this?\n",
        "\n",
        "2. What conclusions can you draw about the conditions under which complex behaviours can arise?\n",
        "Do you think these conclusions are mostly intuitive or counter-intuitive?\n",
        "\n",
        "3. What lessons might we take about studying complex phenomena in the real world from our study of elementary cellular automata?"
      ],
      "metadata": {
        "collapsed": false,
        "pycharm": {
          "name": "#%% md\n"
        },
        "id": "D7Ej1QQ-Qk9I"
      }
    },
    {
      "cell_type": "markdown",
      "source": [
        "### Answers\n",
        "(concise, point-form -- there are no wrong answers, I'd just like to hear what you think)"
      ],
      "metadata": {
        "collapsed": false,
        "pycharm": {
          "name": "#%% md\n"
        },
        "id": "GpCc4ss1Qk9I"
      }
    }
  ],
  "metadata": {
    "kernelspec": {
      "display_name": "Python 3",
      "language": "python",
      "name": "python3"
    },
    "language_info": {
      "codemirror_mode": {
        "name": "ipython",
        "version": 2
      },
      "file_extension": ".py",
      "mimetype": "text/x-python",
      "name": "python",
      "nbconvert_exporter": "python",
      "pygments_lexer": "ipython2",
      "version": "2.7.6"
    },
    "colab": {
      "provenance": [],
      "include_colab_link": true
    }
  },
  "nbformat": 4,
  "nbformat_minor": 0
}