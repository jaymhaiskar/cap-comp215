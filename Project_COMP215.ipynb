{
  "nbformat": 4,
  "nbformat_minor": 0,
  "metadata": {
    "colab": {
      "provenance": [],
      "authorship_tag": "ABX9TyO0jgitsDyn+Wd0v6nWeR7s",
      "include_colab_link": true
    },
    "kernelspec": {
      "name": "python3",
      "display_name": "Python 3"
    },
    "language_info": {
      "name": "python"
    }
  },
  "cells": [
    {
      "cell_type": "markdown",
      "metadata": {
        "id": "view-in-github",
        "colab_type": "text"
      },
      "source": [
        "<a href=\"https://colab.research.google.com/github/jaymhaiskar/cap-comp215/blob/2024.01/Project_COMP215.ipynb\" target=\"_parent\"><img src=\"https://colab.research.google.com/assets/colab-badge.svg\" alt=\"Open In Colab\"/></a>"
      ]
    },
    {
      "cell_type": "code",
      "execution_count": null,
      "metadata": {
        "id": "sOe6xWVM7x9M"
      },
      "outputs": [],
      "source": [
        "import numpy as np\n",
        "import networkx as nx\n",
        "import matplotlib.pyplot as plt\n",
        "\n",
        "def watts_strogatz_experiment(n, k, p_values, num_trials):\n",
        "    \"\"\"\n",
        "    Conducts the Watts and Strogatz experiment.\n",
        "\n",
        "    Parameters:\n",
        "        n (int): Number of nodes in the ring lattice.\n",
        "        k (int): Each node is connected to k nearest neighbors in the ring topology.\n",
        "        p_values (list): List of p values (probability of rewiring edges).\n",
        "        num_trials (int): Number of trials for each p value.\n",
        "\n",
        "    Returns:\n",
        "        tuple: A tuple containing mean path lengths and clustering coefficients for each p value.\n",
        "    \"\"\"\n",
        "    mean_path_lengths = []\n",
        "    clustering_coefficients = []\n",
        "\n",
        "    for p in p_values:\n",
        "        path_lengths = []\n",
        "        clustering_coeffs = []\n",
        "\n",
        "        for _ in range(num_trials):\n",
        "            # Create a Watts-Strogatz graph\n",
        "            G = nx.watts_strogatz_graph(n, k, p)\n",
        "\n",
        "            # Calculate mean path length\n",
        "            path_lengths.append(nx.average_shortest_path_length(G))\n",
        "\n",
        "            # Calculate clustering coefficient\n",
        "            clustering_coeffs.append(nx.average_clustering(G))\n",
        "\n",
        "        # Calculate mean of path lengths and clustering coefficients for current p value\n",
        "        mean_path_length = np.mean(path_lengths)\n",
        "        mean_clustering_coeff = np.mean(clustering_coeffs)\n",
        "\n",
        "        # Append results to lists\n",
        "        mean_path_lengths.append(mean_path_length)\n",
        "        clustering_coefficients.append(mean_clustering_coeff)\n",
        "\n",
        "    return mean_path_lengths, clustering_coefficients\n",
        "\n",
        "# Experiment parameters\n",
        "n = 100  # Number of nodes\n",
        "k = 4    # Each node is connected to k nearest neighbors\n",
        "p_values = np.logspace(-3, 0, 10)  # Probability of rewiring edges (logarithmic space)\n",
        "num_trials = 100  # Number of trials for each p value\n",
        "\n",
        "# Run experiment\n",
        "mean_path_lengths, clustering_coefficients = watts_strogatz_experiment(n, k, p_values, num_trials)\n",
        "\n",
        "# Plot results\n",
        "plt.figure(figsize=(10, 6))\n",
        "plt.plot(p_values, mean_path_lengths, label='Mean Path Length')\n",
        "plt.plot(p_values, clustering_coefficients, label='Clustering Coefficient')\n",
        "plt.xscale('log')\n",
        "plt.xlabel('Probability of Rewiring (p)')\n",
        "plt.ylabel('Metric Value')\n",
        "plt.title('Watts-Strogatz Experiment Results')\n",
        "plt.legend()\n",
        "plt.grid(True)\n",
        "plt.show()\n"
      ]
    }
  ]
}