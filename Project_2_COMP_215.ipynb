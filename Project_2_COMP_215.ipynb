{
  "nbformat": 4,
  "nbformat_minor": 0,
  "metadata": {
    "colab": {
      "provenance": [],
      "authorship_tag": "ABX9TyM0MwX2bG1GJLp26ZEkPRyF",
      "include_colab_link": true
    },
    "kernelspec": {
      "name": "python3",
      "display_name": "Python 3"
    },
    "language_info": {
      "name": "python"
    }
  },
  "cells": [
    {
      "cell_type": "markdown",
      "metadata": {
        "id": "view-in-github",
        "colab_type": "text"
      },
      "source": [
        "<a href=\"https://colab.research.google.com/github/jaymhaiskar/cap-comp215/blob/2024.01/Project_2_COMP_215.ipynb\" target=\"_parent\"><img src=\"https://colab.research.google.com/assets/colab-badge.svg\" alt=\"Open In Colab\"/></a>"
      ]
    },
    {
      "cell_type": "code",
      "source": [
        "import numpy as np\n",
        "import matplotlib.pyplot as plt\n",
        "\n",
        "#I had ChatGPT help me with this code\n",
        "\n",
        "# Define the directions (up, right, down, left)\n",
        "directions = [(0, 1), (1, 0), (0, -1), (-1, 0)]\n",
        "\n",
        "# Define function for Langton's Ant simulation\n",
        "def langstons_ant_2d(grid_size, steps):\n",
        "    # Create a grid with all cells initially set to 0\n",
        "    grid = np.zeros((grid_size, grid_size), dtype=int)\n",
        "\n",
        "    # Set the ant's initial position to the center of the grid\n",
        "    ant_position = (grid_size // 2, grid_size // 2)\n",
        "\n",
        "    # Set the ant's initial direction to up\n",
        "    ant_direction = 0\n",
        "\n",
        "    # Iterate through the specified number of steps\n",
        "    for _ in range(steps):\n",
        "        # Get the current cell color\n",
        "        current_color = grid[ant_position]\n",
        "\n",
        "        # Flip the color of the current cell\n",
        "        grid[ant_position] = 1 - current_color\n",
        "\n",
        "        # Turn the ant based on the color of the current cell\n",
        "        if current_color == 0:\n",
        "            ant_direction = (ant_direction + 1) % 4\n",
        "        else:\n",
        "            ant_direction = (ant_direction - 1) % 4\n",
        "\n",
        "        # Move the ant forward\n",
        "        ant_position = (ant_position[0] + directions[ant_direction][0],\n",
        "                        ant_position[1] + directions[ant_direction][1])\n",
        "\n",
        "        # Ensure the ant stays within the grid by wrapping around\n",
        "        ant_position = (ant_position[0] % grid_size, ant_position[1] % grid_size)\n",
        "\n",
        "    # Return the final grid after simulation\n",
        "    return grid\n",
        "\n",
        "# Function to plot the grid\n",
        "def plot_grid(grid):\n",
        "    plt.imshow(grid, cmap='binary', interpolation='nearest')\n",
        "    plt.title(\"Langston's Ant Experiment\")\n",
        "    plt.show()\n",
        "\n",
        "# Example usage\n",
        "if __name__ == \"__main__\":\n",
        "    grid_size = 100\n",
        "    steps = 10000\n",
        "    final_grid = langstons_ant_2d(grid_size, steps)\n",
        "    plot_grid(final_grid)\n"
      ],
      "metadata": {
        "colab": {
          "base_uri": "https://localhost:8080/",
          "height": 452
        },
        "id": "H5wOAQUA-lNI",
        "outputId": "7e35575d-44d6-488e-c7fe-d804731d2440"
      },
      "execution_count": 1,
      "outputs": [
        {
          "output_type": "display_data",
          "data": {
            "text/plain": [
              "<Figure size 640x480 with 1 Axes>"
            ],
            "image/png": "[encoded data removed]"
          },
          "metadata": {}
        }
      ]
    },
    {
      "cell_type": "markdown",
      "source": [
        "Analysis:\n",
        "# Algorithm Analysis\n",
        "\n",
        "### 1. Big-O Time Complexity\n",
        "\n",
        "The algorithm used to simulate the Langton's Ant cellular automaton has a time complexity of O(t), where t is the number of steps (generations) simulated. This is because for each step, the algorithm iterates through all cells in the grid once to update their states based on certain rules. As the number of steps increases linearly, the time complexity also increases linearly.\n",
        "\n",
        "Implications:\n",
        "- Running larger or longer CA experiments will result in a linear increase in the time required to simulate the system.\n",
        "- As the size of the grid (n x m) increases, the time complexity remains O(t), where t is the number of steps. However, if the grid size becomes very large, it may affect memory usage and computational resources, but the time complexity remains linear with respect to the number of steps.\n",
        "\n",
        "### 2. Timings using Python's timeit\n",
        "\n",
        "To perform actual timings, we can use Python's timeit module to measure the execution time of the code snippet over multiple runs. This will provide empirical evidence to support our algorithm analysis.\n",
        "\n",
        "refer to code below\n",
        "\n",
        "### 3. Efficiency Improvements\n",
        "\n",
        "In Chapter 8 notebook, the author makes some efficiency improvements to the basic algorithm. These improvements involve using NumPy arrays for grid representation and vectorized operations for updating cell states, which can significantly reduce computation time.\n",
        "\n",
        "Do these improvements change the Big-O time complexity?\n",
        "- No, the improvements do not change the Big-O time complexity. The time complexity remains O(t), where t is the number of steps.\n",
        "\n",
        "Do they reduce the multiplicative coefficient (linear improvement) or the constant (overhead)?\n",
        "- Yes, the efficiency improvements reduce both the multiplicative coefficient and the constant overhead. By utilizing vectorized operations, the computational overhead for updating cell states is reduced, resulting in faster execution times.\n",
        "\n",
        "Overall, while the improvements do not change the asymptotic time complexity, they lead to significant performance gains, especially for larger grid sizes and longer simulations.\n",
        "\n",
        "This analysis demonstrates the impact of algorithm efficiency on the execution time of CA simulations. By employing optimized algorithms and data structures, we can achieve better performance without changing the underlying complexity characteristics.\n",
        "\n"
      ],
      "metadata": {
        "id": "lXVAr9zC_E-J"
      }
    },
    {
      "cell_type": "code",
      "source": [
        "import timeit\n",
        "\n",
        "# Function to measure execution time of Langton's Ant simulation\n",
        "def measure_execution_time():\n",
        "    grid_size = 100\n",
        "    steps = 10000\n",
        "    setup_code = \"\"\"\n",
        "from __main__ import langstons_ant_2d\n",
        "\"\"\"\n",
        "    execution_code = f\"\"\"\n",
        "langstons_ant_2d({grid_size}, {steps})\n",
        "\"\"\"\n",
        "    time_taken = timeit.timeit(execution_code, setup=setup_code, number=10)\n",
        "    print(f\"Average time taken for 10 runs: {time_taken / 10:.6f} seconds\")\n",
        "\n",
        "measure_execution_time()"
      ],
      "metadata": {
        "colab": {
          "base_uri": "https://localhost:8080/"
        },
        "id": "M3Se5kUo_S7p",
        "outputId": "4de25638-f3cb-46b4-bc87-79980a19bbd7"
      },
      "execution_count": 3,
      "outputs": [
        {
          "output_type": "stream",
          "name": "stdout",
          "text": [
            "Average time taken for 10 runs: 0.045759 seconds\n"
          ]
        }
      ]
    }
  ]
}